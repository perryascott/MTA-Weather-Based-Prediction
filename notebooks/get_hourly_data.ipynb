{
 "cells": [
  {
   "cell_type": "code",
   "execution_count": 2,
   "metadata": {},
   "outputs": [
    {
     "name": "stderr",
     "output_type": "stream",
     "text": [
      "WARNING:root:Requests made without an app_token will be subject to strict throttling limits.\n"
     ]
    }
   ],
   "source": [
    "#!/usr/bin/env python\n",
    "\n",
    "# make sure to install these packages before running:\n",
    "# pip install pandas\n",
    "# pip install sodapy\n",
    "\n",
    "import pandas as pd\n",
    "from sodapy import Socrata\n",
    "\n",
    "# Unauthenticated client only works with public data sets. Note 'None'\n",
    "# in place of application token, and no username or password:\n",
    "client = Socrata(\"data.ny.gov\", None)\n",
    "\n",
    "# Example authenticated client (needed for non-public datasets):\n",
    "# client = Socrata(data.ny.gov,\n",
    "#                  MyAppToken,\n",
    "#                  username=\"user@example.com\",\n",
    "#                  password=\"AFakePassword\")\n",
    "\n",
    "# First 2000 results, returned as JSON from API / converted to Python list of\n",
    "# dictionaries by sodapy.\n",
    "results = client.get(\"wujg-7c2s\", limit=50000)\n",
    "\n",
    "# Convert to pandas DataFrame\n",
    "results_df = pd.DataFrame.from_records(results)"
   ]
  },
  {
   "cell_type": "code",
   "execution_count": 3,
   "metadata": {},
   "outputs": [
    {
     "name": "stdout",
     "output_type": "stream",
     "text": [
      "         transit_timestamp transit_mode station_complex_id  \\\n",
      "0  2024-06-07T16:00:00.000       subway                 82   \n",
      "1  2024-06-07T16:00:00.000       subway                 83   \n",
      "2  2024-06-07T16:00:00.000       subway                 85   \n",
      "3  2024-06-07T16:00:00.000       subway                 87   \n",
      "4  2024-06-07T16:00:00.000       subway                 88   \n",
      "\n",
      "          station_complex   borough payment_method  \\\n",
      "0            104 St (J,Z)    Queens      metrocard   \n",
      "1    Woodhaven Blvd (J,Z)    Queens      metrocard   \n",
      "2  75 St-Elderts Ln (J,Z)    Queens      metrocard   \n",
      "3       Crescent St (J,Z)  Brooklyn      metrocard   \n",
      "4        Norwood Av (J,Z)  Brooklyn      metrocard   \n",
      "\n",
      "                fare_class_category ridership transfers   latitude  \\\n",
      "0  Metrocard - Seniors & Disability       4.0       0.0   40.69518   \n",
      "1              Metrocard - Students      10.0       0.0   40.69388   \n",
      "2             Metrocard - Fair Fare       3.0       0.0  40.691322   \n",
      "3      Metrocard - Unlimited 30-Day      12.0       0.0  40.683193   \n",
      "4              Metrocard - Students      11.0       0.0   40.68141   \n",
      "\n",
      "    longitude                                       georeference  \\\n",
      "0   -73.84433  {'type': 'Point', 'coordinates': [-73.84433, 4...   \n",
      "1   -73.85158  {'type': 'Point', 'coordinates': [-73.85158, 4...   \n",
      "2   -73.86714  {'type': 'Point', 'coordinates': [-73.86714, 4...   \n",
      "3   -73.87379  {'type': 'Point', 'coordinates': [-73.87379, 4...   \n",
      "4  -73.880035  {'type': 'Point', 'coordinates': [-73.880035, ...   \n",
      "\n",
      "  :@computed_region_kjdx_g34t :@computed_region_yamh_8v7k  \\\n",
      "0                        2137                         196   \n",
      "1                        2137                         196   \n",
      "2                        2137                         196   \n",
      "3                        2137                         894   \n",
      "4                        2137                         894   \n",
      "\n",
      "  :@computed_region_wbg7_3whc  \n",
      "0                        1165  \n",
      "1                        1168  \n",
      "2                        1168  \n",
      "3                         886  \n",
      "4                         886  \n"
     ]
    }
   ],
   "source": [
    "print(results_df.head())"
   ]
  }
 ],
 "metadata": {
  "kernelspec": {
   "display_name": "base",
   "language": "python",
   "name": "python3"
  },
  "language_info": {
   "codemirror_mode": {
    "name": "ipython",
    "version": 3
   },
   "file_extension": ".py",
   "mimetype": "text/x-python",
   "name": "python",
   "nbconvert_exporter": "python",
   "pygments_lexer": "ipython3",
   "version": "3.11.5"
  }
 },
 "nbformat": 4,
 "nbformat_minor": 2
}
